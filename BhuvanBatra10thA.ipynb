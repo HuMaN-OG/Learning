{
  "nbformat": 4,
  "nbformat_minor": 0,
  "metadata": {
    "colab": {
      "name": "BhuvanBatra10thA.ipynb",
      "provenance": [],
      "collapsed_sections": [],
      "toc_visible": true,
      "include_colab_link": true
    },
    "kernelspec": {
      "name": "python3",
      "display_name": "Python 3"
    },
    "language_info": {
      "name": "python"
    }
  },
  "cells": [
    {
      "cell_type": "markdown",
      "metadata": {
        "id": "view-in-github",
        "colab_type": "text"
      },
      "source": [
        "<a href=\"https://colab.research.google.com/github/HuMaN-OG/Learning/blob/main/BhuvanBatra10thA.ipynb\" target=\"_parent\"><img src=\"https://colab.research.google.com/assets/colab-badge.svg\" alt=\"Open In Colab\"/></a>"
      ]
    },
    {
      "cell_type": "markdown",
      "metadata": {
        "id": "l0Nz6F9eudFn"
      },
      "source": [
        "# **Ch-7 Introduction to Phython Class IX Book**"
      ]
    },
    {
      "cell_type": "markdown",
      "metadata": {
        "id": "E68wpLkus7-r"
      },
      "source": [
        "1) Write a program to print sum of two input numbers."
      ]
    },
    {
      "cell_type": "code",
      "metadata": {
        "id": "R0CxrnTqulCW",
        "colab": {
          "base_uri": "https://localhost:8080/"
        },
        "outputId": "aacd3b02-6397-42f7-cfb4-776680fe4777"
      },
      "source": [
        "a1=float(input (\"a = \"))\n",
        "a2=float(input (\"b = \"))\n",
        "print(a1+a2)\n",
        "\n"
      ],
      "execution_count": null,
      "outputs": [
        {
          "output_type": "stream",
          "text": [
            "a = 87.9834\n",
            "b = 69.769\n",
            "157.75240000000002\n"
          ],
          "name": "stdout"
        }
      ]
    },
    {
      "cell_type": "markdown",
      "metadata": {
        "id": "Rn-WW0hxumlj"
      },
      "source": [
        "2) Write a program to print a average of five input numbers."
      ]
    },
    {
      "cell_type": "code",
      "metadata": {
        "id": "WdJUJ84SuxgM",
        "colab": {
          "base_uri": "https://localhost:8080/"
        },
        "outputId": "84c55b1a-8ca8-4622-d299-a39f5e03bbc3"
      },
      "source": [
        "a1=float(input (\"a = \"))\n",
        "b2=float(input (\"b = \"))\n",
        "c3=float(input (\"c = \"))\n",
        "d4=float(input (\"d = \"))\n",
        "e5=float(input (\"e = \"))\n",
        "\n",
        "print(a1+b2+c3+d4+e5)"
      ],
      "execution_count": null,
      "outputs": [
        {
          "output_type": "stream",
          "text": [
            "a = 66\n",
            "b = 9876\n",
            "c = 4567\n",
            "d = 8789\n",
            "e = 34567\n",
            "57865.0\n"
          ],
          "name": "stdout"
        }
      ]
    },
    {
      "cell_type": "markdown",
      "metadata": {
        "id": "k8APu33vs_Ak"
      },
      "source": [
        "3) Program to convert celius to feren."
      ]
    },
    {
      "cell_type": "code",
      "metadata": {
        "id": "kQ7k5GWstEed",
        "colab": {
          "base_uri": "https://localhost:8080/"
        },
        "outputId": "dd201a80-e842-41c3-8291-a0956fcdbeac"
      },
      "source": [
        "a=float(input(\"Temp. in celcius: \"))\n",
        "x= (a)*9/5+32\n",
        "print (\"Temp. in Faranheit: \",x)"
      ],
      "execution_count": null,
      "outputs": [
        {
          "output_type": "stream",
          "text": [
            "Temp. in celcius: 38\n",
            "Temp. in Faranheit:  100.4\n"
          ],
          "name": "stdout"
        }
      ]
    },
    {
      "cell_type": "markdown",
      "metadata": {
        "id": "VH3L66G8ZBFY"
      },
      "source": [
        "4) W.A.P to calculate and display selling price by inputting cost price and profit."
      ]
    },
    {
      "cell_type": "code",
      "metadata": {
        "id": "aEsuuiy9Y-vT"
      },
      "source": [
        "cp=float(input(\"Cost Price: \"))\n",
        "p=float(input(\"Profit: \"))\n",
        "sp=cp+p\n",
        "print(\"Selling Price: \",sp)"
      ],
      "execution_count": null,
      "outputs": []
    },
    {
      "cell_type": "markdown",
      "metadata": {
        "id": "zjwx0ps2ZSPo"
      },
      "source": [
        "5) W.A.P to accept the side of a square and calculate its area."
      ]
    },
    {
      "cell_type": "code",
      "metadata": {
        "id": "GiiFXBs2ZSAI"
      },
      "source": [
        "s=float(input(\"Side of Square: \"))\n",
        "a=s**2\n",
        "print(\"Area of Square: \",a)"
      ],
      "execution_count": null,
      "outputs": []
    },
    {
      "cell_type": "markdown",
      "metadata": {
        "id": "6E_6PRjMZeiP"
      },
      "source": [
        "6) W.A.P to accept marks in 5 subjects and output average."
      ]
    },
    {
      "cell_type": "code",
      "metadata": {
        "id": "UdRwPRbcZeS1"
      },
      "source": [
        "a=float(input(\"Marks in Maths: \"))\n",
        "b=float(input(\"Marks in Science: \"))\n",
        "c=float(input(\"Marks in Social Studies: \"))\n",
        "d=float(input(\"Marks in Sanskrit: \"))\n",
        "e=float(input(\"Marks in AI:  \"))\n",
        "x=(a+b+c+d+e)/5\n",
        "print(\"average Marks: \",x)"
      ],
      "execution_count": null,
      "outputs": []
    },
    {
      "cell_type": "markdown",
      "metadata": {
        "id": "nhVv0DO4ZeIT"
      },
      "source": [
        "7) W.A.P to input a number and its cube."
      ]
    },
    {
      "cell_type": "code",
      "metadata": {
        "id": "-U2S83gXZd9v"
      },
      "source": [
        "x=float(input(\"Enter your number: \"))\n",
        "sq2=x**2\n",
        "cu3=x**3\n",
        "print(\"Square: \",sq2)\n",
        "print(\"cube: \",cu3)"
      ],
      "execution_count": null,
      "outputs": []
    },
    {
      "cell_type": "markdown",
      "metadata": {
        "id": "tMjD8rxwZd0p"
      },
      "source": [
        "8) W.A.P to input amount in dollars and the coversion rate of dollar into rupees and show amount in rupees."
      ]
    },
    {
      "cell_type": "code",
      "metadata": {
        "id": "t6asbvnrZdpe"
      },
      "source": [
        "d=float(input(\"Amount in Dollars: \"))\n",
        "c=float(input(\"Todays USD-INR Coversion rate: \"))\n",
        "r=d*c\n",
        "print(\"Amount in Rupees= \",r)"
      ],
      "execution_count": null,
      "outputs": []
    },
    {
      "cell_type": "markdown",
      "metadata": {
        "id": "hX-A-o9qcDP4"
      },
      "source": [
        "# **CH-8 Conditional Statements and Loops Class IX Book**"
      ]
    },
    {
      "cell_type": "markdown",
      "metadata": {
        "id": "cjvmO7qJcU1f"
      },
      "source": [
        "1) W.A.P to input 3 integers and print the largest of 3."
      ]
    },
    {
      "cell_type": "code",
      "metadata": {
        "id": "FMBPbFVdZdVi"
      },
      "source": [
        "a=float(input(\"Enter First Number: \"))\n",
        "b=float(input(\"Enter Second Number: \"))\n",
        "c=float(input(\"Enter Third Number: \"))\n",
        "if a>b and a>c:\n",
        "  print (\"First number is Largest\")\n",
        "elif b>a and b>c:\n",
        "  print (\"Second number is Largest\")\n",
        "else :\n",
        "  print(\"Third number is largest\")"
      ],
      "execution_count": null,
      "outputs": []
    },
    {
      "cell_type": "markdown",
      "metadata": {
        "id": "hPiiI7JFZdJb"
      },
      "source": [
        "2)W.A.P to input a number and tell if it is odd or even."
      ]
    },
    {
      "cell_type": "code",
      "metadata": {
        "id": "swMTofzIZc9r"
      },
      "source": [
        "a=float(input(\"Enter Your Number: \"))\n",
        "if a%2!=0:\n",
        "  print(\"The number is Odd\")\n",
        "else:\n",
        "  print(\"The number is Even\")"
      ],
      "execution_count": null,
      "outputs": []
    },
    {
      "cell_type": "markdown",
      "metadata": {
        "id": "NsWUYGYfZcxt"
      },
      "source": [
        "3) W.A.P that inputs a number and checks whether it is divisible by 3 or not."
      ]
    },
    {
      "cell_type": "code",
      "metadata": {
        "id": "tmFxGFoDZclY"
      },
      "source": [
        "a=float(input('Enter the number: '))\n",
        "if a%3==0:\n",
        "  print('Divisible by 3.')\n",
        "else:\n",
        "  print('Not divisible by 3.')"
      ],
      "execution_count": null,
      "outputs": []
    },
    {
      "cell_type": "markdown",
      "metadata": {
        "id": "A4uM_xYpZcSA"
      },
      "source": [
        "4) W.A.P to input two no.s and a mathematical operator and display the result."
      ]
    },
    {
      "cell_type": "code",
      "metadata": {
        "id": "wBw9Cl4SZcBV"
      },
      "source": [
        "a=float(input(\"Enter First Number: \"))\n",
        "b=float(input(\"Enter Second Number: \"))\n",
        "c=str(input(\"Choose the Mathematical operator[+,-,/,x]: \")) \n",
        "if c==\"+\":\n",
        "  print(\"Result: \",a+b)\n",
        "elif c==\"-\":\n",
        "  print(\"Result: \",a-b)\n",
        "elif c==\"/\":\n",
        "  print(\"Result: \",a/b)\n",
        "elif c==\"x\":\n",
        "  print(\"Result: \",a*b)\n",
        "else:\n",
        "  print(\"Please choose from one of the given operators\")"
      ],
      "execution_count": null,
      "outputs": []
    },
    {
      "cell_type": "markdown",
      "metadata": {
        "id": "39wPHAXWZbxy"
      },
      "source": [
        "5) W.A.P to input an alphabet and tell if it is lowercase or uppercase"
      ]
    },
    {
      "cell_type": "code",
      "metadata": {
        "id": "Nxmvkx1gZblM"
      },
      "source": [
        "a = input(\"Enter your character: \")\n",
        "if a.isupper() :\n",
        "    print(a, \"is UPPERCASE alphabet.\")\n",
        "\n",
        "elif a.islower() :\n",
        "    print(a, \"is LOWERCASE alphabet.\")\n",
        "\n",
        "else :\n",
        "    print(a, \"is not an alphabet.\")"
      ],
      "execution_count": null,
      "outputs": []
    },
    {
      "cell_type": "markdown",
      "metadata": {
        "id": "vawgoSkPeVKF"
      },
      "source": [
        "6) W.A.P to print a table of a given number."
      ]
    },
    {
      "cell_type": "code",
      "metadata": {
        "id": "10uuDG1TeU8P"
      },
      "source": [
        "a=1\n",
        "b=float(input('Enter your number: '))\n",
        "while a<11:\n",
        "  print(b*a)\n",
        "  a+=1"
      ],
      "execution_count": null,
      "outputs": []
    },
    {
      "cell_type": "markdown",
      "metadata": {
        "id": "ATLeB9UDeUtb"
      },
      "source": [
        "7) W.A.P to input a number and check if it is prime or not."
      ]
    },
    {
      "cell_type": "code",
      "metadata": {
        "id": "bJ2s4jcaeUd2"
      },
      "source": [
        "a=int(input('Enter your number: '))\n",
        "if a>1:\n",
        "  for b in range (2,a):\n",
        "      if a%b==0:\n",
        "        print(a,' is not a prime number.')\n",
        "        break\n",
        "  else:\n",
        "    print(a,' is a prime number.')\n",
        "else:\n",
        "  print(a,' is neither prime number nor composite.')"
      ],
      "execution_count": null,
      "outputs": []
    },
    {
      "cell_type": "markdown",
      "metadata": {
        "id": "oF0gFA8aeTLE"
      },
      "source": [
        "8)W.A.P to add odd numbers upto a given value n."
      ]
    },
    {
      "cell_type": "code",
      "metadata": {
        "id": "GNQ1jJFFeTDm",
        "colab": {
          "base_uri": "https://localhost:8080/"
        },
        "outputId": "6376d72c-f066-4434-b8cd-12e8699cd34f"
      },
      "source": [
        "n=int(input('How many odd no.s to add: '))\n",
        "a=0\n",
        "b=0\n",
        "while b<n:\n",
        "  c=2*b+1\n",
        "  a+=c\n",
        "  b+=1\n",
        "print('The sum of first ' ,n, 'odd no.s: ',a)"
      ],
      "execution_count": null,
      "outputs": [
        {
          "output_type": "stream",
          "text": [
            "How many odd no.s to add: 5\n",
            "The sum of first  5 odd no.s:  25\n"
          ],
          "name": "stdout"
        }
      ]
    },
    {
      "cell_type": "markdown",
      "metadata": {
        "id": "VJFS4iUZeS7g"
      },
      "source": [
        "9)W.A.P to print fibonacci series first 10 elements."
      ]
    },
    {
      "cell_type": "code",
      "metadata": {
        "id": "fig-OKQneS04"
      },
      "source": [
        "a = 0\n",
        "b = 1\n",
        "c = 0\n",
        "d = 1\n",
        "while (d <= 10):\n",
        "  print(c ,end=\" \")\n",
        "  d += 1\n",
        "  a = b\n",
        "  b = c\n",
        "  c = a + b"
      ],
      "execution_count": null,
      "outputs": []
    },
    {
      "cell_type": "markdown",
      "metadata": {
        "id": "N7UowfvOeSrR"
      },
      "source": [
        "10) W.A.P to input a character and tell if it is a vowel or consonant."
      ]
    },
    {
      "cell_type": "code",
      "metadata": {
        "id": "UDzKwIgyeSkT"
      },
      "source": [
        "a=input('Enter your character: ')\n",
        "b=a.lower()\n",
        "if b>='a'and a<='z':\n",
        "  if b=='a':\n",
        "    print('Your charcter is a vowel.')\n",
        "  elif b=='e':\n",
        "    print('Your charcter is a vowel.')\n",
        "  elif b=='i':\n",
        "    print('Your charcter is a vowel.')\n",
        "  elif b=='o':\n",
        "    print('Your charcter is a vowel.')\n",
        "  elif b=='u':\n",
        "    print('Your charcter is a vowel.')\n",
        "  else:\n",
        "    print('It is a consonant.')\n",
        "else:\n",
        "  print('Not an alphabet.')"
      ],
      "execution_count": null,
      "outputs": []
    },
    {
      "cell_type": "markdown",
      "metadata": {
        "id": "YNjdlgTfeSam"
      },
      "source": [
        "11) W.A.P TO print even numbers between 10 and 20."
      ]
    },
    {
      "cell_type": "code",
      "metadata": {
        "id": "-9SaXSR0eSNa"
      },
      "source": [
        "a=10\n",
        "while a<=20:\n",
        "  if a%2==0:\n",
        "    print(a,end=\" \")\n",
        "  a+=1"
      ],
      "execution_count": null,
      "outputs": []
    },
    {
      "cell_type": "markdown",
      "metadata": {
        "id": "KWnJNI-QIVUT"
      },
      "source": [
        "12) W.A.P to print the sum of the digits of a given number."
      ]
    },
    {
      "cell_type": "code",
      "metadata": {
        "id": "t-ktWXDRIU3E"
      },
      "source": [
        "a=int(input(\"Enter your number: \"))\n",
        "b=0\n",
        "while a>0:\n",
        "  c=a%10\n",
        "  b+=c\n",
        "  a//=10\n",
        "print('The sum of digits: ' b)"
      ],
      "execution_count": null,
      "outputs": []
    },
    {
      "cell_type": "markdown",
      "metadata": {
        "id": "ZQgIwMzfIUHD"
      },
      "source": [
        "13) W.A.P to input a number and tell if it is a palindrome or not."
      ]
    },
    {
      "cell_type": "code",
      "metadata": {
        "id": "FXO4MMjoIT4x"
      },
      "source": [
        "a=int(input(\"Enter your number: \"))\n",
        "b=a\n",
        "c=0\n",
        "while a>0:\n",
        "  d=a%10\n",
        "  c=c*10+d\n",
        "  a//=10\n",
        "if c==b:\n",
        "  print('The given no. is a Palindrome')\n",
        "else:\n",
        "  print('The given no. is a Not a Palindrome')"
      ],
      "execution_count": null,
      "outputs": []
    },
    {
      "cell_type": "markdown",
      "metadata": {
        "id": "iqOeAi9uITne"
      },
      "source": [
        "14) W.A.P to print the given pattern.\n",
        "---\n",
        "     6 6 6 6\n",
        "     6 6 6 6\n",
        "     6 6 6 6"
      ]
    },
    {
      "cell_type": "code",
      "metadata": {
        "id": "A8BzD8blITac"
      },
      "source": [
        "a=3\n",
        "b=1\n",
        "while b<=a:\n",
        "  print(6,6,6,6, sep=' ')\n",
        "  b+=1"
      ],
      "execution_count": null,
      "outputs": []
    },
    {
      "cell_type": "markdown",
      "metadata": {
        "id": "qZb0URdUITPN"
      },
      "source": [
        "15) W.A.P to print the given pattern.\n",
        "---\n",
        "     4 3 2 1\n",
        "     4 3 2 \n",
        "     4 3 \n",
        "     4"
      ]
    },
    {
      "cell_type": "code",
      "metadata": {
        "id": "o_OE561wITAc"
      },
      "source": [
        "a=4\n",
        "b=4\n",
        "c=1\n",
        "while a>=1:\n",
        "  while c<=a:\n",
        "    print(b,end=' ')\n",
        "    b-=1\n",
        "    c+=1\n",
        "  print()\n",
        "  a-=1\n",
        "  c=1\n",
        "  b=4"
      ],
      "execution_count": null,
      "outputs": []
    },
    {
      "cell_type": "markdown",
      "metadata": {
        "id": "tImrrqSWJdv-"
      },
      "source": [
        "#**CH-9 Strings in Python Class IX Book**"
      ]
    },
    {
      "cell_type": "markdown",
      "metadata": {
        "id": "Q1nkaz-GIS3F"
      },
      "source": [
        "1)W.A.P to check whether a given string is palindrome or not."
      ]
    },
    {
      "cell_type": "code",
      "metadata": {
        "id": "GffArO6gIStQ"
      },
      "source": [
        "a=input('Enter your word: ')\n",
        "c=a.upper()\n",
        "b=c[::-1]\n",
        "if b==c:\n",
        "  print('It\\'s a Palindrome.')\n",
        "else:\n",
        "  print('It\\'s not a Palindrome.')"
      ],
      "execution_count": null,
      "outputs": []
    },
    {
      "cell_type": "markdown",
      "metadata": {
        "id": "Iwirw9VJISR-"
      },
      "source": [
        "2) W.A.P to count the number of vowels in a word."
      ]
    },
    {
      "cell_type": "code",
      "metadata": {
        "id": "rIco1jzvIR45"
      },
      "source": [
        "a=input(\"Enter your word: \")\n",
        "b = a.lower()\n",
        "d=len(b)\n",
        "e=0\n",
        "\n",
        "for i in range (0,d):\n",
        "    if b[i] in ('a','e','i','o','u'):\n",
        "      e+=1\n",
        "print('The given word has' e 'vowels')"
      ],
      "execution_count": null,
      "outputs": []
    },
    {
      "cell_type": "markdown",
      "metadata": {
        "id": "HxF7d-5-KALT"
      },
      "source": [
        "3) W.A.P to input a sentnce and count the number of words in the sentece."
      ]
    },
    {
      "cell_type": "code",
      "metadata": {
        "colab": {
          "base_uri": "https://localhost:8080/"
        },
        "id": "ok8OP8caJ_49",
        "outputId": "f12043e7-f761-46db-e2a2-a494bb2bb454"
      },
      "source": [
        "a=input('Enter your sentence: ')\n",
        "b=a.split()\n",
        "c=len(b)\n",
        "print('The given sentence has ',c,' words.')"
      ],
      "execution_count": null,
      "outputs": [
        {
          "output_type": "stream",
          "text": [
            "Enter your sentence: HEY \n",
            "The given sentence has  1  words.\n"
          ],
          "name": "stdout"
        }
      ]
    },
    {
      "cell_type": "markdown",
      "metadata": {
        "id": "2h9wtfY5KuMu"
      },
      "source": [
        "# **Python Assignment 1**"
      ]
    },
    {
      "cell_type": "markdown",
      "metadata": {
        "id": "oACObOCAJ_bi"
      },
      "source": [
        "1. Write a program to print the sum of n numbers."
      ]
    },
    {
      "cell_type": "code",
      "metadata": {
        "colab": {
          "base_uri": "https://localhost:8080/"
        },
        "id": "nUHFwzfXJ_Mo",
        "outputId": "afb3b31a-076f-450b-f140-0b108d5be088"
      },
      "source": [
        "num = int(input(\"Enter a number: \"))\n",
        "def sum(n):\n",
        "    if n <= 1:\n",
        "        return n\n",
        "    else:\n",
        "        return n + sum(n-1)\n",
        "print(\"The sum is: \", sum(num))"
      ],
      "execution_count": 1,
      "outputs": [
        {
          "output_type": "stream",
          "text": [
            "Enter a number: 3\n",
            "The sum is:  6\n"
          ],
          "name": "stdout"
        }
      ]
    },
    {
      "cell_type": "markdown",
      "metadata": {
        "id": "mM0YjXdxJ-8R"
      },
      "source": [
        "2. Write a program to test whether a input number is a prime or not"
      ]
    },
    {
      "cell_type": "code",
      "metadata": {
        "colab": {
          "base_uri": "https://localhost:8080/"
        },
        "id": "H5_LCRk7J-oL",
        "outputId": "f585ed11-2ef7-4fbb-cd7f-fe156f56cc7b"
      },
      "source": [
        "num = int(input(\"Enter a number: \"))  \n",
        "  \n",
        "if num > 1:  \n",
        "   for i in range(2,num):  \n",
        "       if (num % i) == 0:  \n",
        "           print(num,\"is not a prime number\")  \n",
        "           print(i,\"times\",num//i,\"is\",num)  \n",
        "           break  \n",
        "   else:  \n",
        "       print(num,\"is a prime number\")  \n",
        "         \n",
        "else:  \n",
        "   print(num,\"is not a prime number\") "
      ],
      "execution_count": 3,
      "outputs": [
        {
          "output_type": "stream",
          "text": [
            "Enter a number: 1\n",
            "1 is not a prime number\n"
          ],
          "name": "stdout"
        }
      ]
    },
    {
      "cell_type": "markdown",
      "metadata": {
        "id": "hCWupydwJ-S7"
      },
      "source": [
        "3. Write a program to generate fibonacci series upto n. 1 1 2 3 5 8..."
      ]
    },
    {
      "cell_type": "code",
      "metadata": {
        "id": "2NE6dwEbJ-BQ",
        "colab": {
          "base_uri": "https://localhost:8080/"
        },
        "outputId": "fa922f60-441a-4989-981a-aac10e8db375"
      },
      "source": [
        "nterms = int(input(\"How many terms? \"))\n",
        "n1, n2 = 0, 1\n",
        "count = 0\n",
        "if nterms <= 0:\n",
        "   print(\"Please enter a positive integer\")\n",
        "elif nterms == 1:\n",
        "   print(\"Fibonacci sequence upto\",nterms,\":\")\n",
        "   print(n1)\n",
        "else:\n",
        "   print(\"Fibonacci sequence:\")\n",
        "   while count < nterms:\n",
        "       print(n1)\n",
        "       nth = n1 + n2\n",
        "       n1 = n2\n",
        "       n2 = nth\n",
        "       count += 1"
      ],
      "execution_count": 5,
      "outputs": [
        {
          "output_type": "stream",
          "text": [
            "How many terms? 2\n",
            "Fibonacci sequence:\n",
            "0\n",
            "1\n"
          ],
          "name": "stdout"
        }
      ]
    },
    {
      "cell_type": "markdown",
      "metadata": {
        "id": "dA_v9cpuJ9tj"
      },
      "source": [
        "4. Write a program to input a string and print its length also print string in reverse order"
      ]
    },
    {
      "cell_type": "code",
      "metadata": {
        "id": "oCqwi2RQJ9Mt"
      },
      "source": [
        "a=input(\"Enter String:\")\n",
        "l=len(a)\n",
        "for i in range(l-1,-1,-1):\n",
        "  print(a[i])"
      ],
      "execution_count": null,
      "outputs": []
    },
    {
      "cell_type": "markdown",
      "metadata": {
        "id": "ajP7NFJHaUmO"
      },
      "source": [
        "5. Write a program to print table of n number."
      ]
    },
    {
      "cell_type": "code",
      "metadata": {
        "id": "fPAHY5STaUQ4",
        "colab": {
          "base_uri": "https://localhost:8080/"
        },
        "outputId": "8af4ba48-8cf5-4c26-c7ce-84971bfa3932"
      },
      "source": [
        "n=int(input(\"Enter a number\"))\n",
        "for i in range(1,11):\n",
        "  print(n,\"x\",i,\"=\",n*i)"
      ],
      "execution_count": 7,
      "outputs": [
        {
          "output_type": "stream",
          "text": [
            "Enter a number5\n",
            "5 x 1 = 5\n",
            "5 x 2 = 10\n",
            "5 x 3 = 15\n",
            "5 x 4 = 20\n",
            "5 x 5 = 25\n",
            "5 x 6 = 30\n",
            "5 x 7 = 35\n",
            "5 x 8 = 40\n",
            "5 x 9 = 45\n",
            "5 x 10 = 50\n"
          ],
          "name": "stdout"
        }
      ]
    }
  ]
}